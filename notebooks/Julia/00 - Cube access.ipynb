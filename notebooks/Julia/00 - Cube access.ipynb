{
 "cells": [
  {
   "cell_type": "markdown",
   "metadata": {},
   "source": [
    "This Notebook will give an overview about how to access data from the data cube and which types of cubes you can work with in ESDL. First of all we have to load the *ESDL.jl* package:"
   ]
  },
  {
   "cell_type": "code",
   "execution_count": 2,
   "metadata": {},
   "outputs": [
    {
     "name": "stderr",
     "output_type": "stream",
     "text": [
      "\u001b[32m\u001b[1m    Updating\u001b[22m\u001b[39m git-repo `https://github.com/esa-esdl/ESDL.jl`\n",
      "\u001b[32m\u001b[1m    Updating\u001b[22m\u001b[39m registry at `~/.julia/registries/General.toml`\n",
      "\u001b[32m\u001b[1m   Resolving\u001b[22m\u001b[39m package versions...\n",
      "\u001b[32m\u001b[1m  No Changes\u001b[22m\u001b[39m to `~/.julia/environments/v1.7/Project.toml`\n",
      "\u001b[32m\u001b[1m  No Changes\u001b[22m\u001b[39m to `~/.julia/environments/v1.7/Manifest.toml`\n"
     ]
    }
   ],
   "source": [
    "using Pkg\n",
    "Pkg.add(PackageSpec(url=\"https://github.com/esa-esdl/ESDL.jl\"))"
   ]
  },
  {
   "cell_type": "code",
   "execution_count": 3,
   "metadata": {},
   "outputs": [],
   "source": [
    "using ESDL"
   ]
  },
  {
   "cell_type": "markdown",
   "metadata": {},
   "source": [
    "The next step is to access the data cube. Here we open the low-resolution cube, get a handle to it and store the handle in the variable `c`. Basic information about the cube will be printed to the screen, like the temporal and spatial resolution and the conatinaed variables."
   ]
  },
  {
   "cell_type": "code",
   "execution_count": 4,
   "metadata": {},
   "outputs": [
    {
     "data": {
      "text/plain": [
       "YAXArray with the following dimensions\n",
       "lon                 Axis with 1440 Elements from -179.875 to 179.875\n",
       "lat                 Axis with 720 Elements from 89.875 to -89.875\n",
       "time                Axis with 1840 Elements from 1979-01-05T00:00:00 to 2018-12-31T00:00:00\n",
       "Variable            Axis with 69 elements: leaf_area_index sensible_heat .. snow_sublimation Rg \n",
       "units: W m-2\n",
       "Total size: 490.37 GB\n"
      ]
     },
     "execution_count": 4,
     "metadata": {},
     "output_type": "execute_result"
    }
   ],
   "source": [
    "c = esdc() #Cube()"
   ]
  },
  {
   "cell_type": "markdown",
   "metadata": {},
   "source": [
    "To access a set of variables from the cube, we use the `getCubeData` function. The keyword argument `variable` lets one select a set of variables. This returns a 4-dimensional data cube where, in addition to longitude, latitude and time, the variables are treated as an additional dimension. \n",
    "\n",
    "Note that this operation will not read the data into memory yet, it will return a handle that can be used for further operations. "
   ]
  },
  {
   "cell_type": "code",
   "execution_count": 5,
   "metadata": {},
   "outputs": [
    {
     "data": {
      "text/plain": [
       "YAXArray with the following dimensions\n",
       "lon                 Axis with 1440 Elements from -179.875 to 179.875\n",
       "lat                 Axis with 720 Elements from 89.875 to -89.875\n",
       "time                Axis with 1840 Elements from 1979-01-05T00:00:00 to 2018-12-31T00:00:00\n",
       "Variable            Axis with 3 elements: net_ecosystem_exchange terrestrial_ecosystem_respiration gross_primary_productivity \n",
       "units: W m-2\n",
       "Total size: 21.32 GB\n"
      ]
     },
     "execution_count": 5,
     "metadata": {},
     "output_type": "execute_result"
    }
   ],
   "source": [
    "d = subsetcube(c, variable = [\"net_ecosystem_exchange\",\"terrestrial_ecosystem_respiration\",\"gross_primary_productivity\"])"
   ]
  },
  {
   "cell_type": "markdown",
   "metadata": {},
   "source": [
    "One can extracta spatial or temporal subset from the cube by sepcifiying the `longitude`, `latitude` or `time` keyword variables. Here we select a lon-lat box in a single year only: "
   ]
  },
  {
   "cell_type": "code",
   "execution_count": 6,
   "metadata": {},
   "outputs": [
    {
     "data": {
      "text/plain": [
       "YAXArray with the following dimensions\n",
       "lon                 Axis with 160 Elements from -9.875 to 29.875\n",
       "lat                 Axis with 140 Elements from 64.875 to 30.125\n",
       "time                Axis with 45 Elements from 2001-01-05T00:00:00 to 2001-12-23T00:00:00\n",
       "units: W m-2\n",
       "Total size: 3.85 MB\n"
      ]
     },
     "execution_count": 6,
     "metadata": {},
     "output_type": "execute_result"
    }
   ],
   "source": [
    "d = subsetcube(c, variable = \"gross_primary_productivity\", \n",
    "                   lon = (-10,30), \n",
    "                   lat = (30, 65), \n",
    "                   time = (Date(2001,1,1), Date(2001,12,31))\n",
    ")"
   ]
  },
  {
   "cell_type": "markdown",
   "metadata": {},
   "source": [
    "There is a set of coordinates for known geographical regions stored in the package, for example, to subset the continent Europe, you can specify:"
   ]
  },
  {
   "cell_type": "code",
   "execution_count": 7,
   "metadata": {},
   "outputs": [
    {
     "data": {
      "text/plain": [
       "YAXArray with the following dimensions\n",
       "lon                 Axis with 172 Elements from -9.875 to 32.875\n",
       "lat                 Axis with 140 Elements from 69.875 to 35.125\n",
       "time                Axis with 1840 Elements from 1979-01-05T00:00:00 to 2018-12-31T00:00:00\n",
       "units: W m-2\n",
       "Total size: 169.02 MB\n"
      ]
     },
     "execution_count": 7,
     "metadata": {},
     "output_type": "execute_result"
    }
   ],
   "source": [
    "d = subsetcube(c, variable = \"gross_primary_productivity\", region = \"Europe\")"
   ]
  },
  {
   "cell_type": "markdown",
   "metadata": {},
   "source": [
    "Similar for countries:"
   ]
  },
  {
   "cell_type": "code",
   "execution_count": 8,
   "metadata": {},
   "outputs": [
    {
     "data": {
      "text/plain": [
       "YAXArray with the following dimensions\n",
       "lon                 Axis with 59 Elements from -81.625 to -67.125\n",
       "lat                 Axis with 70 Elements from 13.125 to -4.125\n",
       "time                Axis with 1840 Elements from 1979-01-05T00:00:00 to 2018-12-31T00:00:00\n",
       "units: W m-2\n",
       "Total size: 28.99 MB\n"
      ]
     },
     "execution_count": 8,
     "metadata": {},
     "output_type": "execute_result"
    }
   ],
   "source": [
    "d = subsetcube(c, variable = \"gross_primary_productivity\", region = \"Colombia\")"
   ]
  },
  {
   "cell_type": "markdown",
   "metadata": {},
   "source": [
    "Or for SREX regions:"
   ]
  },
  {
   "cell_type": "code",
   "execution_count": 9,
   "metadata": {},
   "outputs": [
    {
     "data": {
      "text/plain": [
       "YAXArray with the following dimensions\n",
       "lon                 Axis with 119 Elements from -79.625 to -50.125\n",
       "lat                 Axis with 126 Elements from 11.375 to -19.875\n",
       "time                Axis with 1840 Elements from 1979-01-05T00:00:00 to 2018-12-31T00:00:00\n",
       "units: W m-2\n",
       "Total size: 105.24 MB\n"
      ]
     },
     "execution_count": 9,
     "metadata": {},
     "output_type": "execute_result"
    }
   ],
   "source": [
    "d = subsetcube(c, variable = \"gross_primary_productivity\", region = \"AMZ\")"
   ]
  },
  {
   "cell_type": "code",
   "execution_count": null,
   "metadata": {},
   "outputs": [],
   "source": []
  },
  {
   "cell_type": "code",
   "execution_count": null,
   "metadata": {},
   "outputs": [],
   "source": []
  },
  {
   "cell_type": "code",
   "execution_count": null,
   "metadata": {},
   "outputs": [],
   "source": []
  }
 ],
 "metadata": {
  "@webio": {
   "lastCommId": "4d98a1d3de744bbd88bc16fb72ef2e01",
   "lastKernelId": "d056ea05-1444-4892-9042-9a72f4cc80d8"
  },
  "kernelspec": {
   "display_name": "Julia 1.7.1",
   "language": "julia",
   "name": "julia-1.7"
  },
  "language_info": {
   "file_extension": ".jl",
   "mimetype": "application/julia",
   "name": "julia",
   "version": "1.7.1"
  },
  "widgets": {
   "state": {
    "4994d000-4afe-4471-b6bd-8a2178107ff1": {
     "views": [
      {
       "cell_index": 11
      }
     ]
    }
   },
   "version": "1.2.0"
  }
 },
 "nbformat": 4,
 "nbformat_minor": 2
}
