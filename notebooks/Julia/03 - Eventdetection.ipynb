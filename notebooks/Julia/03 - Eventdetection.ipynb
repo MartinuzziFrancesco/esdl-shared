{
 "cells": [
  {
   "cell_type": "markdown",
   "metadata": {},
   "source": [
    "# Anomaly detection using a local normalization"
   ]
  },
  {
   "cell_type": "code",
   "execution_count": 8,
   "metadata": {},
   "outputs": [
    {
     "name": "stderr",
     "output_type": "stream",
     "text": [
      "\u001b[32m\u001b[1m    Updating\u001b[22m\u001b[39m git-repo `https://github.com/esa-esdl/ESDL.jl`\n",
      "\u001b[32m\u001b[1m    Updating\u001b[22m\u001b[39m registry at `~/.julia/registries/General.toml`\n",
      "\u001b[32m\u001b[1m   Resolving\u001b[22m\u001b[39m package versions...\n",
      "\u001b[32m\u001b[1m  No Changes\u001b[22m\u001b[39m to `~/.julia/environments/v1.7/Project.toml`\n",
      "\u001b[32m\u001b[1m  No Changes\u001b[22m\u001b[39m to `~/.julia/environments/v1.7/Manifest.toml`\n",
      "\u001b[32m\u001b[1m    Updating\u001b[22m\u001b[39m git-repo `https://github.com/esa-esdl/ESDLPlots.jl`\n",
      "\u001b[32m\u001b[1m   Resolving\u001b[22m\u001b[39m package versions...\n",
      "\u001b[32m\u001b[1m  No Changes\u001b[22m\u001b[39m to `~/.julia/environments/v1.7/Project.toml`\n",
      "\u001b[32m\u001b[1m  No Changes\u001b[22m\u001b[39m to `~/.julia/environments/v1.7/Manifest.toml`\n"
     ]
    }
   ],
   "source": [
    "using Pkg\n",
    "Pkg.add(PackageSpec(url=\"https://github.com/esa-esdl/ESDL.jl\"))\n",
    "Pkg.add(PackageSpec(url=\"https://github.com/esa-esdl/ESDLPlots.jl\"))"
   ]
  },
  {
   "cell_type": "code",
   "execution_count": 1,
   "metadata": {},
   "outputs": [],
   "source": [
    "using ESDL"
   ]
  },
  {
   "cell_type": "code",
   "execution_count": 2,
   "metadata": {},
   "outputs": [
    {
     "data": {
      "text/plain": [
       "YAXArray with the following dimensions\n",
       "lon                 Axis with 53 Elements from 11.125 to 24.125\n",
       "lat                 Axis with 55 Elements from 68.875 to 55.375\n",
       "time                Axis with 368 Elements from 2001-01-05T00:00:00 to 2008-12-30T00:00:00\n",
       "Variable            Axis with 4 elements: air_temperature_2m gross_primary_productivity latent_energy precipitation \n",
       "units: W m-2\n",
       "Total size: 16.37 MB\n"
      ]
     },
     "execution_count": 2,
     "metadata": {},
     "output_type": "execute_result"
    }
   ],
   "source": [
    "c=esdc() #Cube()\n",
    "cdata=subsetcube( c, region=\"Sweden\",\n",
    "    variable=[\"air_temperature_2m\",\"gross_primary_productivity\",\"latent_energy\",\"precipitation\"], \n",
    "    time=2001:2008\n",
    ")"
   ]
  },
  {
   "cell_type": "code",
   "execution_count": 3,
   "metadata": {},
   "outputs": [
    {
     "data": {
      "text/plain": [
       "YAXArray with the following dimensions\n",
       "time                Axis with 368 Elements from 2001-01-05T00:00:00 to 2008-12-30T00:00:00\n",
       "lon                 Axis with 53 Elements from 11.125 to 24.125\n",
       "lat                 Axis with 55 Elements from 68.875 to 55.375\n",
       "Variable            Axis with 4 elements: air_temperature_2m gross_primary_productivity latent_energy precipitation \n",
       "Total size: 16.37 MB\n"
      ]
     },
     "execution_count": 3,
     "metadata": {},
     "output_type": "execute_result"
    }
   ],
   "source": [
    "cdata_filled=gapFillMSC(cdata)"
   ]
  },
  {
   "cell_type": "code",
   "execution_count": 4,
   "metadata": {},
   "outputs": [
    {
     "data": {
      "text/plain": [
       "YAXArray with the following dimensions\n",
       "time                Axis with 368 Elements from 2001-01-05T00:00:00 to 2008-12-30T00:00:00\n",
       "lon                 Axis with 53 Elements from 11.125 to 24.125\n",
       "lat                 Axis with 55 Elements from 68.875 to 55.375\n",
       "Variable            Axis with 4 elements: air_temperature_2m gross_primary_productivity latent_energy precipitation \n",
       "Total size: 16.37 MB\n"
      ]
     },
     "execution_count": 4,
     "metadata": {},
     "output_type": "execute_result"
    }
   ],
   "source": [
    "cdata_anom=removeMSC(cdata)"
   ]
  },
  {
   "cell_type": "code",
   "execution_count": 5,
   "metadata": {},
   "outputs": [
    {
     "data": {
      "text/plain": [
       "YAXArray with the following dimensions\n",
       "time                Axis with 368 Elements from 2001-01-05T00:00:00 to 2008-12-30T00:00:00\n",
       "lon                 Axis with 53 Elements from 11.125 to 24.125\n",
       "lat                 Axis with 55 Elements from 68.875 to 55.375\n",
       "Variable            Axis with 4 elements: air_temperature_2m gross_primary_productivity latent_energy precipitation \n",
       "Total size: 16.37 MB\n"
      ]
     },
     "execution_count": 5,
     "metadata": {},
     "output_type": "execute_result"
    }
   ],
   "source": [
    "cdata_norm=normalizeTS(cdata_anom)"
   ]
  },
  {
   "cell_type": "code",
   "execution_count": 9,
   "metadata": {},
   "outputs": [
    {
     "name": "stderr",
     "output_type": "stream",
     "text": [
      "\u001b[32m\u001b[1m   Resolving\u001b[22m\u001b[39m package versions...\n",
      "\u001b[32m\u001b[1m  No Changes\u001b[22m\u001b[39m to `~/.julia/environments/v1.7/Project.toml`\n",
      "\u001b[32m\u001b[1m  No Changes\u001b[22m\u001b[39m to `~/.julia/environments/v1.7/Manifest.toml`\n"
     ]
    }
   ],
   "source": [
    "Pkg.add(\"MultivariateAnomalies\")"
   ]
  },
  {
   "cell_type": "code",
   "execution_count": 10,
   "metadata": {},
   "outputs": [
    {
     "data": {
      "text/plain": [
       "cubeanomalies (generic function with 1 method)"
      ]
     },
     "execution_count": 10,
     "metadata": {},
     "output_type": "execute_result"
    }
   ],
   "source": [
    "using MultivariateAnomalies\n",
    "function cubeanomalies(data;methods=[\"REC\",\"KDE\"])\n",
    "    any(ismissing,data) && return missing\n",
    "    data = Float64.(data)\n",
    "    o = hcat(detectAnomalies(data, methods)...)\n",
    "    o\n",
    "end"
   ]
  },
  {
   "cell_type": "markdown",
   "metadata": {},
   "source": [
    "---- works until here ------"
   ]
  },
  {
   "cell_type": "code",
   "execution_count": 11,
   "metadata": {},
   "outputs": [
    {
     "name": "stderr",
     "output_type": "stream",
     "text": [
      "WARNING: both StatsBase and Distances export \"pairwise!\"; uses of it in module MultivariateAnomalies must be qualified\n"
     ]
    },
    {
     "ename": "LoadError",
     "evalue": "UndefVarError: pairwise! not defined",
     "output_type": "error",
     "traceback": [
      "UndefVarError: pairwise! not defined",
      "",
      "Stacktrace:",
      "  [1] dist_matrix!(D_out::Tuple{Matrix{Float64}, Matrix{Float64}, Matrix{Float64}}, data::Matrix{Float64}; dist::String, space::Int64, lat::Int64, lon::Int64, Q::Int64, dims::Int64)",
      "    @ MultivariateAnomalies ~/.julia/packages/MultivariateAnomalies/gd753/src/DistDensity.jl:50",
      "  [2] #dist_matrix#3",
      "    @ ~/.julia/packages/MultivariateAnomalies/gd753/src/DistDensity.jl:102 [inlined]",
      "  [3] detectAnomalies(data::Matrix{Float64}, algorithms::Vector{String}; mean::Int64, dist::String)",
      "    @ MultivariateAnomalies ~/.julia/packages/MultivariateAnomalies/gd753/src/HighLevelFunctions.jl:295",
      "  [4] detectAnomalies",
      "    @ ~/.julia/packages/MultivariateAnomalies/gd753/src/HighLevelFunctions.jl:291 [inlined]",
      "  [5] cubeanomalies(data::Matrix{Union{Missing, Float32}}; methods::Vector{String})",
      "    @ Main ./In[10]:5",
      "  [6] cubeanomalies(data::Matrix{Union{Missing, Float32}})",
      "    @ Main ./In[10]:3",
      "  [7] (::YAXArrays.DAT.var\"#66#68\"{YAXArrays.DAT.var\"#66#67#69\"{typeof(cubeanomalies)}})(::Array{Union{Missing, Float32}, 0}, ::Vararg{Any}; kwargs::Base.Pairs{Symbol, Union{}, Tuple{}, NamedTuple{(), Tuple{}}})",
      "    @ YAXArrays.DAT ~/.julia/packages/YAXArrays/8cfQH/src/DAT/DAT.jl:449",
      "  [8] (::YAXArrays.DAT.var\"#66#68\"{YAXArrays.DAT.var\"#66#67#69\"{typeof(cubeanomalies)}})(::Array{Union{Missing, Float32}, 0}, ::Vararg{Any})",
      "    @ YAXArrays.DAT ~/.julia/packages/YAXArrays/8cfQH/src/DAT/DAT.jl:449",
      "  [9] innercode(f::Function, cI::CartesianIndex{2}, xinBC::Tuple{YAXArrays.YAXTools.PickAxisArray{Union{Missing, Float32}, 4, Array{Union{Missing, Float32}, 4}, (Colon(), 1, 2, Colon()), nothing}}, xoutBC::Tuple{YAXArrays.YAXTools.PickAxisArray{Union{Missing, Float32}, 2, Matrix{Union{Missing, Float32}}, (1, 2), nothing}}, filters::Tuple{Tuple{YAXArrays.DAT.AllMissing}}, inwork::Tuple{Vector{Matrix{Union{Missing, Float32}}}}, outwork::Tuple{Vector{Array{Union{Missing, Float32}, 0}}}, axvalcreator::YAXArrays.DAT.NoLoopAxes, offscur::Tuple{Int64, Int64}, addargs::Tuple{}, kwargs::Base.Pairs{Symbol, Union{}, Tuple{}, NamedTuple{(), Tuple{}}})",
      "    @ YAXArrays.DAT ~/.julia/packages/YAXArrays/8cfQH/src/DAT/DAT.jl:1031",
      " [10] innerLoop(loopRanges::Tuple{UnitRange{Int64}, UnitRange{Int64}}, f::Function, xinBC::Tuple{YAXArrays.YAXTools.PickAxisArray{Union{Missing, Float32}, 4, Array{Union{Missing, Float32}, 4}, (Colon(), 1, 2, Colon()), nothing}}, xoutBC::Tuple{YAXArrays.YAXTools.PickAxisArray{Union{Missing, Float32}, 2, Matrix{Union{Missing, Float32}}, (1, 2), nothing}}, filters::Tuple{Tuple{YAXArrays.DAT.AllMissing}}, inwork::Tuple{Vector{Matrix{Union{Missing, Float32}}}}, outwork::Tuple{Vector{Array{Union{Missing, Float32}, 0}}}, axvalcreator::YAXArrays.DAT.NoLoopAxes, addargs::Tuple{}, kwargs::Base.Pairs{Symbol, Union{}, Tuple{}, NamedTuple{(), Tuple{}}})",
      "    @ YAXArrays.DAT ~/.julia/packages/YAXArrays/8cfQH/src/DAT/DAT.jl:1054",
      " [11] (::YAXArrays.DAT.var\"#102#106\"{YAXArrays.DAT.DATConfig{1, 1}})(r::Tuple{UnitRange{Int64}, UnitRange{Int64}})",
      "    @ YAXArrays.DAT ~/.julia/packages/YAXArrays/8cfQH/src/DAT/DAT.jl:625",
      " [12] (::ProgressMeter.var\"#56#59\"{Distributed.RemoteChannel{Channel{Bool}}, YAXArrays.DAT.var\"#102#106\"{YAXArrays.DAT.DATConfig{1, 1}}})(x::Tuple{UnitRange{Int64}, UnitRange{Int64}})",
      "    @ ProgressMeter ~/.julia/packages/ProgressMeter/Vf8un/src/ProgressMeter.jl:1018",
      " [13] iterate",
      "    @ ./generator.jl:47 [inlined]",
      " [14] collect(itr::Base.Generator{Base.Iterators.ProductIterator{Tuple{Vector{UnitRange{Int64}}, Vector{UnitRange{Int64}}}}, ProgressMeter.var\"#56#59\"{Distributed.RemoteChannel{Channel{Bool}}, YAXArrays.DAT.var\"#102#106\"{YAXArrays.DAT.DATConfig{1, 1}}}})",
      "    @ Base ./array.jl:724",
      " [15] map(f::Function, A::Base.Iterators.ProductIterator{Tuple{Vector{UnitRange{Int64}}, Vector{UnitRange{Int64}}}})",
      "    @ Base ./abstractarray.jl:2878",
      " [16] macro expansion",
      "    @ ~/.julia/packages/ProgressMeter/Vf8un/src/ProgressMeter.jl:1017 [inlined]",
      " [17] macro expansion",
      "    @ ./task.jl:399 [inlined]",
      " [18] macro expansion",
      "    @ ~/.julia/packages/ProgressMeter/Vf8un/src/ProgressMeter.jl:1016 [inlined]",
      " [19] macro expansion",
      "    @ ./task.jl:399 [inlined]",
      " [20] progress_map(::Function, ::Vararg{Any}; mapfun::Function, progress::ProgressMeter.Progress, channel_bufflen::Int64, kwargs::Base.Pairs{Symbol, Union{}, Tuple{}, NamedTuple{(), Tuple{}}})",
      "    @ ProgressMeter ~/.julia/packages/ProgressMeter/Vf8un/src/ProgressMeter.jl:1009",
      " [21] progress_map(::Function, ::Vararg{Any})",
      "    @ ProgressMeter ~/.julia/packages/ProgressMeter/Vf8un/src/ProgressMeter.jl:1005",
      " [22] runLoop(dc::YAXArrays.DAT.DATConfig{1, 1}, showprog::Bool)",
      "    @ YAXArrays.DAT ~/.julia/packages/YAXArrays/8cfQH/src/DAT/DAT.jl:623",
      " [23] mapCube(::typeof(cubeanomalies), ::Tuple{YAXArray{Union{Missing, Float32}, 4, Array{Union{Missing, Float32}, 4}, Vector{CubeAxis}}}; max_cache::Float64, indims::InDims, outdims::OutDims, inplace::Bool, ispar::Bool, debug::Bool, include_loopvars::Bool, showprog::Bool, nthreads::Vector{Int64}, loopchunksize::Dict{Any, Any}, kwargs::Base.Pairs{Symbol, Union{}, Tuple{}, NamedTuple{(), Tuple{}}})",
      "    @ YAXArrays.DAT ~/.julia/packages/YAXArrays/8cfQH/src/DAT/DAT.jl:436",
      " [24] #mapCube#38",
      "    @ ~/.julia/packages/YAXArrays/8cfQH/src/DAT/DAT.jl:281 [inlined]",
      " [25] #mapslices#52",
      "    @ ~/.julia/packages/YAXArrays/8cfQH/src/DAT/DAT.jl:340 [inlined]",
      " [26] top-level scope",
      "    @ In[11]:1",
      " [27] eval",
      "    @ ./boot.jl:373 [inlined]",
      " [28] include_string(mapexpr::typeof(REPL.softscope), mod::Module, code::String, filename::String)",
      "    @ Base ./loading.jl:1196"
     ]
    }
   ],
   "source": [
    "ooc = mapslices(cubeanomalies,cdata_norm,dims = (\"time\",\"variable\"))"
   ]
  },
  {
   "cell_type": "code",
   "execution_count": null,
   "metadata": {},
   "outputs": [],
   "source": [
    "renameaxis!(ooc,\"outaxis\"=>CategoricalAxis(\"Method\",[\"REC\",\"KDE\"]))"
   ]
  },
  {
   "cell_type": "code",
   "execution_count": null,
   "metadata": {},
   "outputs": [],
   "source": [
    "using ESDLPlots\n",
    "plotTS(ooc)"
   ]
  },
  {
   "cell_type": "code",
   "execution_count": null,
   "metadata": {},
   "outputs": [],
   "source": [
    "display(plotMAP(ooc,time=Date(2003,7,25),method=\"REC\"))\n",
    "display(plotMAP(ooc,time=Date(2003,7,25),method=\"KDE\",dmin=0.1,dmax=0.4))"
   ]
  },
  {
   "cell_type": "code",
   "execution_count": null,
   "metadata": {},
   "outputs": [],
   "source": []
  },
  {
   "cell_type": "code",
   "execution_count": null,
   "metadata": {},
   "outputs": [],
   "source": []
  }
 ],
 "metadata": {
  "@webio": {
   "lastCommId": "ab471adffa8649569e15f70d773fe4a9",
   "lastKernelId": "ab41f00b-80c8-4076-8f13-162dd1720ebd"
  },
  "anaconda-cloud": {},
  "kernelspec": {
   "display_name": "Julia 1.7.1",
   "language": "julia",
   "name": "julia-1.7"
  },
  "language_info": {
   "file_extension": ".jl",
   "mimetype": "application/julia",
   "name": "julia",
   "version": "1.7.1"
  },
  "widgets": {
   "state": {
    "696f617a-148c-4dc1-a3fa-d2e98c035f37": {
     "views": [
      {
       "cell_index": 9
      }
     ]
    },
    "85247ebb-b8ea-4988-9280-9d7da3869710": {
     "views": [
      {
       "cell_index": 9
      }
     ]
    },
    "c2be737b-d3cd-4541-afb6-32ac3d4d961c": {
     "views": [
      {
       "cell_index": 9
      }
     ]
    },
    "f1c5de86-bebe-43f5-b592-14ff8f12c791": {
     "views": [
      {
       "cell_index": 9
      }
     ]
    }
   },
   "version": "1.2.0"
  }
 },
 "nbformat": 4,
 "nbformat_minor": 2
}
