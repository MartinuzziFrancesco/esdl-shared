{
 "cells": [
  {
   "cell_type": "markdown",
   "metadata": {
    "scrolled": false
   },
   "source": [
    "# Linear dimensionality reduction with \n",
    "# Prinicipal Component Analysis on the ESDC\n",
    "## by Max Planck Institute for Biogeochemistry\n",
    "## M. Mahecha & F. Gans "
   ]
  },
  {
   "cell_type": "code",
   "execution_count": 1,
   "metadata": {},
   "outputs": [
    {
     "name": "stderr",
     "output_type": "stream",
     "text": [
      "\u001b[32m\u001b[1m    Updating\u001b[22m\u001b[39m git-repo `https://github.com/esa-esdl/ESDL.jl`\n",
      "\u001b[32m\u001b[1m    Updating\u001b[22m\u001b[39m registry at `~/.julia/registries/General.toml`\n",
      "\u001b[32m\u001b[1m   Resolving\u001b[22m\u001b[39m package versions...\n",
      "\u001b[32m\u001b[1m  No Changes\u001b[22m\u001b[39m to `~/.julia/environments/v1.7/Project.toml`\n",
      "\u001b[32m\u001b[1m  No Changes\u001b[22m\u001b[39m to `~/.julia/environments/v1.7/Manifest.toml`\n",
      "\u001b[32m\u001b[1m    Updating\u001b[22m\u001b[39m git-repo `https://github.com/esa-esdl/ESDLPlots.jl`\n",
      "\u001b[32m\u001b[1m   Resolving\u001b[22m\u001b[39m package versions...\n",
      "\u001b[32m\u001b[1m  No Changes\u001b[22m\u001b[39m to `~/.julia/environments/v1.7/Project.toml`\n",
      "\u001b[32m\u001b[1m  No Changes\u001b[22m\u001b[39m to `~/.julia/environments/v1.7/Manifest.toml`\n"
     ]
    }
   ],
   "source": [
    "using Pkg\n",
    "Pkg.add(PackageSpec(url=\"https://github.com/esa-esdl/ESDL.jl\"))\n",
    "Pkg.add(PackageSpec(url=\"https://github.com/esa-esdl/ESDLPlots.jl\"))"
   ]
  },
  {
   "cell_type": "code",
   "execution_count": 2,
   "metadata": {},
   "outputs": [
    {
     "data": {
      "application/vnd.webio.node+json": {
       "children": [],
       "instanceArgs": {
        "namespace": "html",
        "tag": "div"
       },
       "nodeType": "DOM",
       "props": {},
       "type": "node"
      },
      "text/html": [
       "<div style=\"padding: 1em; background-color: #f8d6da; border: 1px solid #f5c6cb; font-weight: bold;\">\n",
       "<p>The WebIO Jupyter extension was not detected. See the\n",
       "<a href=\"https://juliagizmos.github.io/WebIO.jl/latest/providers/ijulia/\" target=\"_blank\">\n",
       "    WebIO Jupyter integration documentation\n",
       "</a>\n",
       "for more information.\n",
       "</div>\n"
      ],
      "text/plain": [
       "WebIO._IJuliaInit()"
      ]
     },
     "metadata": {
      "application/vnd.webio.node+json": {
       "kernelId": "098e7b29-f83a-45f9-bc03-5f541d4014c1"
      }
     },
     "output_type": "display_data"
    }
   ],
   "source": [
    "using ESDL\n",
    "using ESDLPlots"
   ]
  },
  {
   "cell_type": "markdown",
   "metadata": {},
   "source": [
    "In this study we investigate the redundancy the different variables in each pixel. Therefore we calculate a linear dimensionality reduction (PCA) and check how many dimensions are needed to explain 90% of the variance of a cube that contained originally 6 variables.  First we check out the variables from the cube and add some processors, because we want to do a global study"
   ]
  },
  {
   "cell_type": "markdown",
   "metadata": {},
   "source": [
    "## Access ESDC"
   ]
  },
  {
   "cell_type": "code",
   "execution_count": 3,
   "metadata": {},
   "outputs": [
    {
     "data": {
      "text/plain": [
       "YAXArray with the following dimensions\n",
       "lon                 Axis with 1440 Elements from -179.875 to 179.875\n",
       "lat                 Axis with 720 Elements from 89.875 to -89.875\n",
       "time                Axis with 1840 Elements from 1979-01-05T00:00:00 to 2018-12-31T00:00:00\n",
       "Variable            Axis with 69 elements: leaf_area_index sensible_heat .. snow_sublimation Rg \n",
       "units: W m-2\n",
       "Total size: 490.37 GB\n"
      ]
     },
     "execution_count": 3,
     "metadata": {},
     "output_type": "execute_result"
    }
   ],
   "source": [
    "c = esdc() #Cube()"
   ]
  },
  {
   "cell_type": "markdown",
   "metadata": {},
   "source": [
    "## Define variables for anaylsis"
   ]
  },
  {
   "cell_type": "code",
   "execution_count": 4,
   "metadata": {},
   "outputs": [],
   "source": [
    "vars = [\"gross_primary_productivity\",\"latent_energy\",\"par\"\n",
    "    ,\"terrestrial_ecosystem_respiration\",\"precipitation\",\"max_air_temperature\",\"net_ecosystem_exchange\"];\n",
    "cdata = subsetcube(c,variable=vars,region=\"Africa\", time = 2001:2016);"
   ]
  },
  {
   "cell_type": "markdown",
   "metadata": {},
   "source": [
    "## Gap-filling, needed to perform PCA"
   ]
  },
  {
   "cell_type": "code",
   "execution_count": 5,
   "metadata": {},
   "outputs": [
    {
     "name": "stderr",
     "output_type": "stream",
     "text": [
      "\u001b[32mProgress: 100%|█████████████████████████████████████████| Time: 0:07:44\u001b[39m\n",
      "\u001b[32mProgress: 100%|█████████████████████████████████████████| Time: 0:00:06\u001b[39m\n"
     ]
    },
    {
     "data": {
      "text/plain": [
       "YAXArray with the following dimensions\n",
       "time                Axis with 736 Elements from 2001-01-05T00:00:00 to 2016-12-30T00:00:00\n",
       "lon                 Axis with 272 Elements from -16.875 to 50.875\n",
       "lat                 Axis with 320 Elements from 39.875 to -39.875\n",
       "Variable            Axis with 7 elements: gross_primary_productivity latent_energy par terrestrial_ecosystem_respiration precipitation max_air_temperature_2m net_ecosystem_exchange \n",
       "Total size: 1.67 GB\n"
      ]
     },
     "execution_count": 5,
     "metadata": {},
     "output_type": "execute_result"
    }
   ],
   "source": [
    "using Distributed\n",
    "addprocs(5)\n",
    "@everywhere using YAXArrays, Zarr, ESDL\n",
    "cube_filled     = gapFillMSC(cdata);\n",
    "#And we calculate the anomalies\n",
    "cubeanom        = removeMSC(cube_filled)"
   ]
  },
  {
   "cell_type": "code",
   "execution_count": 7,
   "metadata": {},
   "outputs": [
    {
     "name": "stderr",
     "output_type": "stream",
     "text": [
      "\u001b[32mProgress: 100%|█████████████████████████████████████████| Time: 0:00:04\u001b[39m\n"
     ]
    },
    {
     "data": {
      "text/plain": [
       "YAXArray with the following dimensions\n",
       "time                Axis with 736 Elements from 2001-01-05T00:00:00 to 2016-12-30T00:00:00\n",
       "lon                 Axis with 272 Elements from -16.875 to 50.875\n",
       "lat                 Axis with 320 Elements from 39.875 to -39.875\n",
       "Variable            Axis with 7 elements: gross_primary_productivity latent_energy par terrestrial_ecosystem_respiration precipitation max_air_temperature_2m net_ecosystem_exchange \n",
       "Total size: 1.67 GB\n"
      ]
     },
     "execution_count": 7,
     "metadata": {},
     "output_type": "execute_result"
    }
   ],
   "source": [
    "#GC.gc()\n",
    "#savecube(cube_filled, \"data/filled_cube.zarr\")\n",
    "#savecube(cubeanom, \"data/anomalies.zarr\")\n"
   ]
  },
  {
   "cell_type": "markdown",
   "metadata": {},
   "source": [
    "## Perform PCA"
   ]
  },
  {
   "cell_type": "code",
   "execution_count": 8,
   "metadata": {},
   "outputs": [],
   "source": [
    "@everywhere using MultivariateStats, Statistics\n",
    "@everywhere function sufficient_dimensions(xin::AbstractArray, expl_var::Float64 = 0.95)\n",
    "    any(ismissing,xin) && return NaN\n",
    "    npoint, nvar = size(xin)\n",
    "    means = mean(xin,dims=1)\n",
    "    stds  = std(xin,dims=1)\n",
    "    xin   = broadcast((y,m,s)->s>0.0 ? (y-m)/s : one(y),xin,means,stds)\n",
    "    pca = fit(PCA, xin', pratio = 0.999, method = :svd)\n",
    "    return findfirst(cumsum(principalvars(pca)) / tprincipalvar(pca) .> expl_var)\n",
    "end "
   ]
  },
  {
   "cell_type": "code",
   "execution_count": 9,
   "metadata": {},
   "outputs": [
    {
     "name": "stderr",
     "output_type": "stream",
     "text": [
      "┌ Warning: There are still cache misses\n",
      "└ @ YAXArrays.DAT /home/anja/.julia/packages/YAXArrays/8cfQH/src/DAT/DAT.jl:978\n",
      "Worker 5 terminated.\n",
      "\u001b[91m\u001b[1mUnhandled Task \u001b[22m\u001b[39m\u001b[91m\u001b[1mERROR: \u001b[22m\u001b[39mEOFError: read end of file\n",
      "Stacktrace:\n",
      " [1] \u001b[0m\u001b[1m(::Base.var\"#wait_locked#645\")\u001b[22m\u001b[0m\u001b[1m(\u001b[22m\u001b[90ms\u001b[39m::\u001b[0mSockets.TCPSocket, \u001b[90mbuf\u001b[39m::\u001b[0mIOBuffer, \u001b[90mnb\u001b[39m::\u001b[0mInt64\u001b[0m\u001b[1m)\u001b[22m\n",
      "\u001b[90m   @ \u001b[39m\u001b[90mBase\u001b[39m \u001b[90m./\u001b[39m\u001b[90m\u001b[4mstream.jl:892\u001b[24m\u001b[39m\n",
      " [2] \u001b[0m\u001b[1munsafe_read\u001b[22m\u001b[0m\u001b[1m(\u001b[22m\u001b[90ms\u001b[39m::\u001b[0mSockets.TCPSocket, \u001b[90mp\u001b[39m::\u001b[0mPtr\u001b[90m{UInt8}\u001b[39m, \u001b[90mnb\u001b[39m::\u001b[0mUInt64\u001b[0m\u001b[1m)\u001b[22m\n",
      "\u001b[90m   @ \u001b[39m\u001b[90mBase\u001b[39m \u001b[90m./\u001b[39m\u001b[90m\u001b[4mstream.jl:900\u001b[24m\u001b[39m\n",
      " [3] \u001b[0m\u001b[1munsafe_read\u001b[22m\n",
      "\u001b[90m   @ \u001b[39m\u001b[90m./\u001b[39m\u001b[90m\u001b[4mio.jl:724\u001b[24m\u001b[39m\u001b[90m [inlined]\u001b[39m\n",
      " [4] \u001b[0m\u001b[1munsafe_read\u001b[22m\u001b[0m\u001b[1m(\u001b[22m\u001b[90ms\u001b[39m::\u001b[0mSockets.TCPSocket, \u001b[90mp\u001b[39m::\u001b[0mBase.RefValue\u001b[90m{NTuple{4, Int64}}\u001b[39m, \u001b[90mn\u001b[39m::\u001b[0mInt64\u001b[0m\u001b[1m)\u001b[22m\n",
      "\u001b[90m   @ \u001b[39m\u001b[90mBase\u001b[39m \u001b[90m./\u001b[39m\u001b[90m\u001b[4mio.jl:723\u001b[24m\u001b[39m\n",
      " [5] \u001b[0m\u001b[1mread!\u001b[22m\n",
      "\u001b[90m   @ \u001b[39m\u001b[90m./\u001b[39m\u001b[90m\u001b[4mio.jl:725\u001b[24m\u001b[39m\u001b[90m [inlined]\u001b[39m\n",
      " [6] \u001b[0m\u001b[1mdeserialize_hdr_raw\u001b[22m\n",
      "\u001b[90m   @ \u001b[39m\u001b[90m~/Programme/julia-1.7.1/share/julia/stdlib/v1.7/Distributed/src/\u001b[39m\u001b[90m\u001b[4mmessages.jl:167\u001b[24m\u001b[39m\u001b[90m [inlined]\u001b[39m\n",
      " [7] \u001b[0m\u001b[1mmessage_handler_loop\u001b[22m\u001b[0m\u001b[1m(\u001b[22m\u001b[90mr_stream\u001b[39m::\u001b[0mSockets.TCPSocket, \u001b[90mw_stream\u001b[39m::\u001b[0mSockets.TCPSocket, \u001b[90mincoming\u001b[39m::\u001b[0mBool\u001b[0m\u001b[1m)\u001b[22m\n",
      "\u001b[90m   @ \u001b[39m\u001b[35mDistributed\u001b[39m \u001b[90m~/Programme/julia-1.7.1/share/julia/stdlib/v1.7/Distributed/src/\u001b[39m\u001b[90m\u001b[4mprocess_messages.jl:165\u001b[24m\u001b[39m\n",
      " [8] \u001b[0m\u001b[1mprocess_tcp_streams\u001b[22m\u001b[0m\u001b[1m(\u001b[22m\u001b[90mr_stream\u001b[39m::\u001b[0mSockets.TCPSocket, \u001b[90mw_stream\u001b[39m::\u001b[0mSockets.TCPSocket, \u001b[90mincoming\u001b[39m::\u001b[0mBool\u001b[0m\u001b[1m)\u001b[22m\n",
      "\u001b[90m   @ \u001b[39m\u001b[35mDistributed\u001b[39m \u001b[90m~/Programme/julia-1.7.1/share/julia/stdlib/v1.7/Distributed/src/\u001b[39m\u001b[90m\u001b[4mprocess_messages.jl:126\u001b[24m\u001b[39m\n",
      " [9] \u001b[0m\u001b[1m(::Distributed.var\"#99#100\"{Sockets.TCPSocket, Sockets.TCPSocket, Bool})\u001b[22m\u001b[0m\u001b[1m(\u001b[22m\u001b[0m\u001b[1m)\u001b[22m\n",
      "\u001b[90m   @ \u001b[39m\u001b[35mDistributed\u001b[39m \u001b[90m./\u001b[39m\u001b[90m\u001b[4mtask.jl:423\u001b[24m\u001b[39m\n",
      "Worker 2 terminated.\n",
      "\u001b[91m\u001b[1mUnhandled Task \u001b[22m\u001b[39m\u001b[91m\u001b[1mERROR: \u001b[22m\u001b[39mEOFError: read end of file\n",
      "Stacktrace:\n",
      " [1] \u001b[0m\u001b[1m(::Base.var\"#wait_locked#645\")\u001b[22m\u001b[0m\u001b[1m(\u001b[22m\u001b[90ms\u001b[39m::\u001b[0mSockets.TCPSocket, \u001b[90mbuf\u001b[39m::\u001b[0mIOBuffer, \u001b[90mnb\u001b[39m::\u001b[0mInt64\u001b[0m\u001b[1m)\u001b[22m\n",
      "\u001b[90m   @ \u001b[39m\u001b[90mBase\u001b[39m \u001b[90m./\u001b[39m\u001b[90m\u001b[4mstream.jl:892\u001b[24m\u001b[39m\n",
      " [2] \u001b[0m\u001b[1munsafe_read\u001b[22m\u001b[0m\u001b[1m(\u001b[22m\u001b[90ms\u001b[39m::\u001b[0mSockets.TCPSocket, \u001b[90mp\u001b[39m::\u001b[0mPtr\u001b[90m{UInt8}\u001b[39m, \u001b[90mnb\u001b[39m::\u001b[0mUInt64\u001b[0m\u001b[1m)\u001b[22m\n",
      "\u001b[90m   @ \u001b[39m\u001b[90mBase\u001b[39m \u001b[90m./\u001b[39m\u001b[90m\u001b[4mstream.jl:900\u001b[24m\u001b[39m\n",
      " [3] \u001b[0m\u001b[1munsafe_read\u001b[22m\n",
      "\u001b[90m   @ \u001b[39m\u001b[90m./\u001b[39m\u001b[90m\u001b[4mio.jl:724\u001b[24m\u001b[39m\u001b[90m [inlined]\u001b[39m\n",
      " [4] \u001b[0m\u001b[1munsafe_read\u001b[22m\u001b[0m\u001b[1m(\u001b[22m\u001b[90ms\u001b[39m::\u001b[0mSockets.TCPSocket, \u001b[90mp\u001b[39m::\u001b[0mBase.RefValue\u001b[90m{NTuple{4, Int64}}\u001b[39m, \u001b[90mn\u001b[39m::\u001b[0mInt64\u001b[0m\u001b[1m)\u001b[22m\n",
      "\u001b[90m   @ \u001b[39m\u001b[90mBase\u001b[39m \u001b[90m./\u001b[39m\u001b[90m\u001b[4mio.jl:723\u001b[24m\u001b[39m\n",
      " [5] \u001b[0m\u001b[1mread!\u001b[22m\n",
      "\u001b[90m   @ \u001b[39m\u001b[90m./\u001b[39m\u001b[90m\u001b[4mio.jl:725\u001b[24m\u001b[39m\u001b[90m [inlined]\u001b[39m\n",
      " [6] \u001b[0m\u001b[1mdeserialize_hdr_raw\u001b[22m\n",
      "\u001b[90m   @ \u001b[39m\u001b[90m~/Programme/julia-1.7.1/share/julia/stdlib/v1.7/Distributed/src/\u001b[39m\u001b[90m\u001b[4mmessages.jl:167\u001b[24m\u001b[39m\u001b[90m [inlined]\u001b[39m\n",
      " [7] \u001b[0m\u001b[1mmessage_handler_loop\u001b[22m\u001b[0m\u001b[1m(\u001b[22m\u001b[90mr_stream\u001b[39m::\u001b[0mSockets.TCPSocket, \u001b[90mw_stream\u001b[39m::\u001b[0mSockets.TCPSocket, \u001b[90mincoming\u001b[39m::\u001b[0mBool\u001b[0m\u001b[1m)\u001b[22m\n",
      "\u001b[90m   @ \u001b[39m\u001b[35mDistributed\u001b[39m \u001b[90m~/Programme/julia-1.7.1/share/julia/stdlib/v1.7/Distributed/src/\u001b[39m\u001b[90m\u001b[4mprocess_messages.jl:165\u001b[24m\u001b[39m\n",
      " [8] \u001b[0m\u001b[1mprocess_tcp_streams\u001b[22m\u001b[0m\u001b[1m(\u001b[22m\u001b[90mr_stream\u001b[39m::\u001b[0mSockets.TCPSocket, \u001b[90mw_stream\u001b[39m::\u001b[0mSockets.TCPSocket, \u001b[90mincoming\u001b[39m::\u001b[0mBool\u001b[0m\u001b[1m)\u001b[22m\n",
      "\u001b[90m   @ \u001b[39m\u001b[35mDistributed\u001b[39m \u001b[90m~/Programme/julia-1.7.1/share/julia/stdlib/v1.7/Distributed/src/\u001b[39m\u001b[90m\u001b[4mprocess_messages.jl:126\u001b[24m\u001b[39m\n",
      " [9] \u001b[0m\u001b[1m(::Distributed.var\"#99#100\"{Sockets.TCPSocket, Sockets.TCPSocket, Bool})\u001b[22m\u001b[0m\u001b[1m(\u001b[22m\u001b[0m\u001b[1m)\u001b[22m\n",
      "\u001b[90m   @ \u001b[39m\u001b[35mDistributed\u001b[39m \u001b[90m./\u001b[39m\u001b[90m\u001b[4mtask.jl:423\u001b[24m\u001b[39m\n",
      "\r",
      "\u001b[32mProgress:  50%|████████████████████▌                    |  ETA: 0:00:30\u001b[39m"
     ]
    },
    {
     "name": "stdout",
     "output_type": "stream",
     "text": [
      "      From worker 4:\tIOError: stream is closed or unusable\n",
      "      From worker 4:\tStacktrace:\n",
      "      From worker 4:\t  [1] \u001b[0m\u001b[1mcheck_open\u001b[22m\n",
      "      From worker 4:\t\u001b[90m    @ \u001b[39m\u001b[90m./\u001b[39m\u001b[90m\u001b[4mstream.jl:386\u001b[24m\u001b[39m\u001b[90m [inlined]\u001b[39m\n",
      "      From worker 4:\t  [2] \u001b[0m\u001b[1muv_write_async\u001b[22m\u001b[0m\u001b[1m(\u001b[22m\u001b[90ms\u001b[39m::\u001b[0mSockets.TCPSocket, \u001b[90mp\u001b[39m::\u001b[0mPtr\u001b[90m{UInt8}\u001b[39m, \u001b[90mn\u001b[39m::\u001b[0mUInt64\u001b[0m\u001b[1m)\u001b[22m\n",
      "      From worker 4:\t\u001b[90m    @ \u001b[39m\u001b[90mBase\u001b[39m \u001b[90m./\u001b[39m\u001b[90m\u001b[4mstream.jl:1018\u001b[24m\u001b[39m\n",
      "      From worker 4:\t  [3] \u001b[0m\u001b[1muv_write\u001b[22m\u001b[0m\u001b[1m(\u001b[22m\u001b[90ms\u001b[39m::\u001b[0mSockets.TCPSocket, \u001b[90mp\u001b[39m::\u001b[0mPtr\u001b[90m{UInt8}\u001b[39m, \u001b[90mn\u001b[39m::\u001b[0mUInt64\u001b[0m\u001b[1m)\u001b[22m\n",
      "      From worker 4:\t\u001b[90m    @ \u001b[39m\u001b[90mBase\u001b[39m \u001b[90m./\u001b[39m\u001b[90m\u001b[4mstream.jl:981\u001b[24m\u001b[39m\n",
      "      From worker 4:\t  [4] \u001b[0m\u001b[1muv_write\u001b[22m\n",
      "      From worker 4:\t\u001b[90m    @ \u001b[39m\u001b[90m./\u001b[39m\u001b[90m\u001b[4mstream.jl:977\u001b[24m\u001b[39m\u001b[90m [inlined]\u001b[39m\n",
      "      From worker 4:\t  [5] \u001b[0m\u001b[1mflush\u001b[22m\u001b[0m\u001b[1m(\u001b[22m\u001b[90ms\u001b[39m::\u001b[0mSockets.TCPSocket\u001b[0m\u001b[1m)\u001b[22m\n",
      "      From worker 4:\t\u001b[90m    @ \u001b[39m\u001b[90mBase\u001b[39m \u001b[90m./\u001b[39m\u001b[90m\u001b[4mstream.jl:1073\u001b[24m\u001b[39m\n",
      "      From worker 4:\t  [6] \u001b[0m\u001b[1msend_msg_\u001b[22m\u001b[0m\u001b[1m(\u001b[22m\u001b[90mw\u001b[39m::\u001b[0mDistributed.Worker, \u001b[90mheader\u001b[39m::\u001b[0mDistributed.MsgHeader, \u001b[90mmsg\u001b[39m::\u001b[0mDistributed.RemoteDoMsg, \u001b[90mnow\u001b[39m::\u001b[0mBool\u001b[0m\u001b[1m)\u001b[22m\n",
      "      From worker 4:\t\u001b[90m    @ \u001b[39m\u001b[35mDistributed\u001b[39m \u001b[90m~/Programme/julia-1.7.1/share/julia/stdlib/v1.7/Distributed/src/\u001b[39m\u001b[90m\u001b[4mmessages.jl:187\u001b[24m\u001b[39m\n",
      "      From worker 4:\t  [7] \u001b[0m\u001b[1msend_msg\u001b[22m\n",
      "      From worker 4:\t\u001b[90m    @ \u001b[39m\u001b[90m~/Programme/julia-1.7.1/share/julia/stdlib/v1.7/Distributed/src/\u001b[39m\u001b[90m\u001b[4mmessages.jl:122\u001b[24m\u001b[39m\u001b[90m [inlined]\u001b[39m\n",
      "      From worker 4:\t  [8] \u001b[0m\u001b[1m#remote_do#165\u001b[22m\n",
      "      From worker 4:\t\u001b[90m    @ \u001b[39m\u001b[90m~/Programme/julia-1.7.1/share/julia/stdlib/v1.7/Distributed/src/\u001b[39m\u001b[90m\u001b[4mremotecall.jl:536\u001b[24m\u001b[39m\u001b[90m [inlined]\u001b[39m\n",
      "      From worker 4:\t  [9] \u001b[0m\u001b[1mremote_do\u001b[22m\u001b[0m\u001b[1m(\u001b[22m\u001b[90mf\u001b[39m::\u001b[0mFunction, \u001b[90mw\u001b[39m::\u001b[0mDistributed.Worker, \u001b[90margs\u001b[39m::\u001b[0mVector\u001b[90m{Any}\u001b[39m\u001b[0m\u001b[1m)\u001b[22m\n",
      "      From worker 4:\t\u001b[90m    @ \u001b[39m\u001b[35mDistributed\u001b[39m \u001b[90m~/Programme/julia-1.7.1/share/julia/stdlib/v1.7/Distributed/src/\u001b[39m\u001b[90m\u001b[4mremotecall.jl:536\u001b[24m\u001b[39m\n",
      "      From worker 4:\t [10] \u001b[0m\u001b[1mflush_gc_msgs\u001b[22m\u001b[0m\u001b[1m(\u001b[22m\u001b[90mw\u001b[39m::\u001b[0mDistributed.Worker\u001b[0m\u001b[1m)\u001b[22m\n",
      "      From worker 4:\t\u001b[90m    @ \u001b[39m\u001b[35mDistributed\u001b[39m \u001b[90m~/Programme/julia-1.7.1/share/julia/stdlib/v1.7/Distributed/src/\u001b[39m\u001b[90m\u001b[4mmessages.jl:150\u001b[24m\u001b[39m\n",
      "      From worker 4:\t [11] \u001b[0m\u001b[1mflush_gc_msgs\u001b[22m\u001b[0m\u001b[1m(\u001b[22m\u001b[0m\u001b[1m)\u001b[22m\n",
      "      From worker 4:\t\u001b[90m    @ \u001b[39m\u001b[35mDistributed\u001b[39m \u001b[90m~/Programme/julia-1.7.1/share/julia/stdlib/v1.7/Distributed/src/\u001b[39m\u001b[90m\u001b[4mmessages.jl:198\u001b[24m\u001b[39m\n",
      "      From worker 4:\t [12] \u001b[0m\u001b[1m#invokelatest#2\u001b[22m\n",
      "      From worker 4:\t\u001b[90m    @ \u001b[39m\u001b[90m./\u001b[39m\u001b[90m\u001b[4messentials.jl:716\u001b[24m\u001b[39m\u001b[90m [inlined]\u001b[39m\n",
      "      From worker 4:\t [13] \u001b[0m\u001b[1minvokelatest\u001b[22m\n",
      "      From worker 4:\t\u001b[90m    @ \u001b[39m\u001b[90m./\u001b[39m\u001b[90m\u001b[4messentials.jl:714\u001b[24m\u001b[39m\u001b[90m [inlined]\u001b[39m\n",
      "      From worker 4:\t [14] \u001b[0m\u001b[1mmacro expansion\u001b[22m\n",
      "      From worker 4:\t\u001b[90m    @ \u001b[39m\u001b[90m~/Programme/julia-1.7.1/share/julia/stdlib/v1.7/Distributed/src/\u001b[39m\u001b[90m\u001b[4mremotecall.jl:286\u001b[24m\u001b[39m\u001b[90m [inlined]\u001b[39m\n",
      "      From worker 4:\t [15] \u001b[0m\u001b[1m(::Distributed.var\"#133#135\")\u001b[22m\u001b[0m\u001b[1m(\u001b[22m\u001b[0m\u001b[1m)\u001b[22m\n",
      "      From worker 6:\tIOError: stream is closed or unusable\n",
      "      From worker 6:\tStacktrace:\n"
     ]
    },
    {
     "ename": "LoadError",
     "evalue": "ProcessExitedException(2)",
     "output_type": "error",
     "traceback": [
      "ProcessExitedException(2)",
      "",
      "Stacktrace:",
      "  [1] (::Base.var\"#892#894\")(x::Task)",
      "    @ Base ./asyncmap.jl:177",
      "  [2] foreach(f::Base.var\"#892#894\", itr::Vector{Any})",
      "    @ Base ./abstractarray.jl:2694",
      "  [3] maptwice(wrapped_f::Function, chnl::Channel{Any}, worker_tasks::Vector{Any}, c::Base.Iterators.ProductIterator{Tuple{Vector{UnitRange{Int64}}, Vector{UnitRange{Int64}}}})",
      "    @ Base ./asyncmap.jl:177",
      "  [4] wrap_n_exec_twice",
      "    @ ./asyncmap.jl:153 [inlined]",
      "  [5] #async_usemap#877",
      "    @ ./asyncmap.jl:103 [inlined]",
      "  [6] #asyncmap#876",
      "    @ ./asyncmap.jl:81 [inlined]",
      "  [7] pmap(f::Function, p::WorkerPool, c::Base.Iterators.ProductIterator{Tuple{Vector{UnitRange{Int64}}, Vector{UnitRange{Int64}}}}; distributed::Bool, batch_size::Int64, on_error::Nothing, retry_delays::Vector{Any}, retry_check::Nothing)",
      "    @ Distributed ~/Programme/julia-1.7.1/share/julia/stdlib/v1.7/Distributed/src/pmap.jl:126",
      "  [8] pmap(f::Function, p::WorkerPool, c::Base.Iterators.ProductIterator{Tuple{Vector{UnitRange{Int64}}, Vector{UnitRange{Int64}}}})",
      "    @ Distributed ~/Programme/julia-1.7.1/share/julia/stdlib/v1.7/Distributed/src/pmap.jl:101",
      "  [9] macro expansion",
      "    @ ~/.julia/packages/ProgressMeter/Vf8un/src/ProgressMeter.jl:1017 [inlined]",
      " [10] macro expansion",
      "    @ ./task.jl:399 [inlined]",
      " [11] macro expansion",
      "    @ ~/.julia/packages/ProgressMeter/Vf8un/src/ProgressMeter.jl:1016 [inlined]",
      " [12] macro expansion",
      "    @ ./task.jl:399 [inlined]",
      " [13] progress_map(::Function, ::Vararg{Any}; mapfun::Function, progress::ProgressMeter.Progress, channel_bufflen::Int64, kwargs::Base.Pairs{Symbol, Union{}, Tuple{}, NamedTuple{(), Tuple{}}})",
      "    @ ProgressMeter ~/.julia/packages/ProgressMeter/Vf8un/src/ProgressMeter.jl:1009",
      " [14] #progress_pmap#60",
      "    @ ~/.julia/packages/ProgressMeter/Vf8un/src/ProgressMeter.jl:1034 [inlined]",
      " [15] pmap_with_data(f::Function, p::WorkerPool, c::Base.Iterators.ProductIterator{Tuple{Vector{UnitRange{Int64}}, Vector{UnitRange{Int64}}}}; initfunc::Function, progress::ProgressMeter.Progress, kwargs::Base.Pairs{Symbol, Union{}, Tuple{}, NamedTuple{(), Tuple{}}})",
      "    @ YAXArrays.DAT ~/.julia/packages/YAXArrays/8cfQH/src/DAT/DAT.jl:580",
      " [16] pmap_with_data(f::Function, c::Base.Iterators.ProductIterator{Tuple{Vector{UnitRange{Int64}}, Vector{UnitRange{Int64}}}}; initfunc::Function, kwargs::Base.Pairs{Symbol, ProgressMeter.Progress, Tuple{Symbol}, NamedTuple{(:progress,), Tuple{ProgressMeter.Progress}}})",
      "    @ YAXArrays.DAT ~/.julia/packages/YAXArrays/8cfQH/src/DAT/DAT.jl:585",
      " [17] runLoop(dc::YAXArrays.DAT.DATConfig{1, 1}, showprog::Bool)",
      "    @ YAXArrays.DAT ~/.julia/packages/YAXArrays/8cfQH/src/DAT/DAT.jl:614",
      " [18] mapCube(fu::typeof(sufficient_dimensions), cdata::Tuple{YAXArray{Union{Missing, Float32}, 4, DiskArrayTools.DiskArrayStack{Union{Missing, Float32}, 4, DiskArrays.SubDiskArray{Union{Missing, Float32}, 3}, 1}, Vector{CubeAxis}}}, addargs::Float64; max_cache::Float64, indims::InDims, outdims::OutDims, inplace::Bool, ispar::Bool, debug::Bool, include_loopvars::Bool, showprog::Bool, nthreads::Dict{Int64, Int64}, loopchunksize::Dict{Any, Any}, kwargs::Base.Pairs{Symbol, Union{}, Tuple{}, NamedTuple{(), Tuple{}}})",
      "    @ YAXArrays.DAT ~/.julia/packages/YAXArrays/8cfQH/src/DAT/DAT.jl:436",
      " [19] #mapCube#38",
      "    @ ~/.julia/packages/YAXArrays/8cfQH/src/DAT/DAT.jl:281 [inlined]",
      " [20] #mapslices#52",
      "    @ ~/.julia/packages/YAXArrays/8cfQH/src/DAT/DAT.jl:340 [inlined]",
      " [21] top-level scope",
      "    @ In[9]:2",
      " [22] eval",
      "    @ ./boot.jl:373 [inlined]",
      " [23] include_string(mapexpr::typeof(REPL.softscope), mod::Module, code::String, filename::String)",
      "    @ Base ./loading.jl:1196"
     ]
    },
    {
     "name": "stdout",
     "output_type": "stream",
     "text": [
      "      From worker 6:\t  [1] \u001b[0m\u001b[1mcheck_open\u001b[22m\n"
     ]
    }
   ],
   "source": [
    "#works until here\n",
    "\n",
    "#First we do the analysis on the original cube:\n",
    "qualitypca=mapslices(sufficient_dimensions,cube_filled,0.90,dims = (\"Time\",\"Variable\"));"
   ]
  },
  {
   "cell_type": "markdown",
   "metadata": {},
   "source": [
    "# Result\n",
    "## Complexity of the multivariate time series including the seasonal cycle\n",
    "## How many variables are needed to explain 90% of the variance in the data?"
   ]
  },
  {
   "cell_type": "code",
   "execution_count": null,
   "metadata": {},
   "outputs": [],
   "source": [
    "plotMAP(qualitypca,dmin=2,dmax=6)"
   ]
  },
  {
   "cell_type": "markdown",
   "metadata": {},
   "source": [
    "And on the anomalies only:"
   ]
  },
  {
   "cell_type": "code",
   "execution_count": null,
   "metadata": {},
   "outputs": [],
   "source": [
    "qualitypcaanom=mapslices(sufficient_dimensions,cubeanom,0.90, dims=(\"Time\",\"Variable\"));"
   ]
  },
  {
   "cell_type": "markdown",
   "metadata": {},
   "source": [
    "## Complexity of the multivariate time series without the seasonal cycle"
   ]
  },
  {
   "cell_type": "code",
   "execution_count": null,
   "metadata": {},
   "outputs": [],
   "source": [
    "plotMAP(qualitypcaanom,dmin=2,dmax=6)"
   ]
  },
  {
   "cell_type": "code",
   "execution_count": null,
   "metadata": {},
   "outputs": [],
   "source": [
    "rmprocs(workers())"
   ]
  },
  {
   "cell_type": "code",
   "execution_count": null,
   "metadata": {},
   "outputs": [],
   "source": []
  },
  {
   "cell_type": "code",
   "execution_count": null,
   "metadata": {},
   "outputs": [],
   "source": []
  }
 ],
 "metadata": {
  "@webio": {
   "lastCommId": "0904a8a487b64c6f923f9f605a260323",
   "lastKernelId": "d1d60949-f25c-4724-930e-a3fe2c23a475"
  },
  "anaconda-cloud": {},
  "kernelspec": {
   "display_name": "Julia 1.7.1",
   "language": "julia",
   "name": "julia-1.7"
  },
  "language_info": {
   "file_extension": ".jl",
   "mimetype": "application/julia",
   "name": "julia",
   "version": "1.7.1"
  }
 },
 "nbformat": 4,
 "nbformat_minor": 1
}
