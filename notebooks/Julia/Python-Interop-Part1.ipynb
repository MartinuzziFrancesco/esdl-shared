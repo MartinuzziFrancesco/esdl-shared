{
 "cells": [
  {
   "cell_type": "markdown",
   "metadata": {},
   "source": [
    "### Interoperability with Python xarray\n",
    "\n",
    "This pair of notebooks (together with Python-interop Part2) is meant to demonstrate how to mix workflows from Julia and Python. In this example we will open the datacube in Julia, remove the seasonal cycle of a subset and save the data. Afterwards you can open the Python notebook and continue the analysis and plot the results. "
   ]
  },
  {
   "cell_type": "code",
   "execution_count": null,
   "metadata": {},
   "outputs": [],
   "source": [
    "using Pkg\n",
    "Pkg.add(PackageSpec(url=\"https://github.com/esa-esdl/ESDL.jl\"))"
   ]
  },
  {
   "cell_type": "code",
   "execution_count": 1,
   "metadata": {},
   "outputs": [],
   "source": [
    "using ESDL"
   ]
  },
  {
   "cell_type": "code",
   "execution_count": 2,
   "metadata": {},
   "outputs": [
    {
     "data": {
      "text/plain": [
       "YAXArray with the following dimensions\n",
       "time                Axis with 782 Elements from 2001-01-05T00:00:00 to 2017-12-31T00:00:00\n",
       "lon                 Axis with 41 Elements from 14.125 to 24.125\n",
       "lat                 Axis with 23 Elements from 54.625 to 49.125\n",
       "Variable            Axis with 3 elements: gross_primary_productivity net_ecosystem_exchange terrestrial_ecosystem_respiration \n",
       "Total size: 8.44 MB\n"
      ]
     },
     "execution_count": 2,
     "metadata": {},
     "output_type": "execute_result"
    }
   ],
   "source": [
    "c=esdc() #Cube()\n",
    "c2 = c[var=[\"gross\",\"net_ecosystem\",\"terr\"],time=2001:2017, region=\"Poland\"]\n",
    "c_nomsc = removeMSC(c2)"
   ]
  },
  {
   "cell_type": "code",
   "execution_count": 3,
   "metadata": {},
   "outputs": [],
   "source": [
    "savecube(c_nomsc,\"data/cube_nomsc\");"
   ]
  },
  {
   "cell_type": "code",
   "execution_count": null,
   "metadata": {},
   "outputs": [],
   "source": []
  }
 ],
 "metadata": {
  "@webio": {
   "lastCommId": "72023d2b3f8a43ef8b33285ff805c90d",
   "lastKernelId": "9e732a5d-1f9e-4717-9d24-3d5a1ab5098c"
  },
  "kernelspec": {
   "display_name": "Julia 1.7.1",
   "language": "julia",
   "name": "julia-1.7"
  },
  "language_info": {
   "file_extension": ".jl",
   "mimetype": "application/julia",
   "name": "julia",
   "version": "1.7.1"
  }
 },
 "nbformat": 4,
 "nbformat_minor": 2
}
